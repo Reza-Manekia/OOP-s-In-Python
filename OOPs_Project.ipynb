{
  "nbformat": 4,
  "nbformat_minor": 0,
  "metadata": {
    "colab": {
      "provenance": []
    },
    "kernelspec": {
      "name": "python3",
      "display_name": "Python 3"
    },
    "language_info": {
      "name": "python"
    }
  },
  "cells": [
    {
      "cell_type": "markdown",
      "source": [
        "##**PET Management**"
      ],
      "metadata": {
        "id": "4EVA2qBLaDK7"
      }
    },
    {
      "cell_type": "code",
      "execution_count": null,
      "metadata": {
        "id": "_jaSpeR6Z8_g",
        "colab": {
          "base_uri": "https://localhost:8080/",
          "height": 36
        },
        "outputId": "775809ad-e608-4f1b-fb41-a2e65a58c4c8"
      },
      "outputs": [
        {
          "output_type": "execute_result",
          "data": {
            "text/plain": [
              "'Buddy the Dog: Hunger - 40, Happiness - 60, Energy - 50'"
            ],
            "application/vnd.google.colaboratory.intrinsic+json": {
              "type": "string"
            }
          },
          "metadata": {},
          "execution_count": 11
        }
      ],
      "source": [
        "class Pet:\n",
        "    def __init__(self, name, species):\n",
        "        self.name = name\n",
        "        self.species = species\n",
        "        self.__hunger = 50\n",
        "        self.__happiness = 50\n",
        "        self.__energy = 50\n",
        "\n",
        "    def feed(self):\n",
        "        self.__hunger -= 10\n",
        "        if self.__hunger < 0:\n",
        "            self.__hunger = 0\n",
        "\n",
        "    def play(self):\n",
        "        self.__happiness += 10\n",
        "        self.__energy -= 10\n",
        "        if self.__happiness > 100:\n",
        "            self.__happiness = 100\n",
        "        if self.__energy < 0:\n",
        "            self.__energy = 0\n",
        "\n",
        "    def sleep(self):\n",
        "        self.__energy += 10\n",
        "        if self.__energy > 100:\n",
        "            self.__energy = 100\n",
        "\n",
        "    def get_status(self):\n",
        "        return self.name + \" the \" + self.species + \": Hunger - \" + str(self.__hunger) +\n",
        "        \", Happiness - \" + str(self.__happiness) + \", Energy - \" + str(self.__energy)\n",
        "\n",
        "\n",
        "class Dog(Pet):\n",
        "    def __init__(self, name):\n",
        "        super().__init__(name, \"Dog\")\n",
        "\n",
        "class Cat(Pet):\n",
        "    def __init__(self, name):\n",
        "        super().__init__(name, \"Cat\")\n",
        "\n",
        "\n",
        "dog = Dog(\"Buddy\")\n",
        "dog.get_status()\n",
        "dog.feed()\n",
        "dog.get_status()\n",
        "dog.sleep()\n",
        "dog.get_status()\n",
        "dog.play()\n",
        "dog.get_status()\n"
      ]
    },
    {
      "cell_type": "code",
      "source": [
        "a = {\n",
        "    'name':'ahsan',\n",
        "    'age':12\n",
        "    }\n",
        "a.keys()\n",
        "a.values()"
      ],
      "metadata": {
        "colab": {
          "base_uri": "https://localhost:8080/"
        },
        "id": "t5qxPYZk9S9I",
        "outputId": "8e7d93ce-50bf-4551-d16d-7f89136f117c"
      },
      "execution_count": null,
      "outputs": [
        {
          "output_type": "execute_result",
          "data": {
            "text/plain": [
              "dict_values(['ahsan', 12])"
            ]
          },
          "metadata": {},
          "execution_count": 16
        }
      ]
    },
    {
      "cell_type": "code",
      "source": [],
      "metadata": {
        "id": "z6SMnfjgaUmr"
      },
      "execution_count": null,
      "outputs": []
    }
  ]
}