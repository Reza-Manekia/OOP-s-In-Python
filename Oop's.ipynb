{
  "nbformat": 4,
  "nbformat_minor": 0,
  "metadata": {
    "colab": {
      "provenance": []
    },
    "kernelspec": {
      "name": "python3",
      "display_name": "Python 3"
    },
    "language_info": {
      "name": "python"
    }
  },
  "cells": [
    {
      "cell_type": "code",
      "source": [
        "def func():\n",
        "  a = 4\n",
        "  return a\n",
        "\n",
        "func()"
      ],
      "metadata": {
        "colab": {
          "base_uri": "https://localhost:8080/"
        },
        "id": "vEG4LMXNfsMT",
        "outputId": "6308b485-587a-4db2-8ae1-303168fa9fc5"
      },
      "execution_count": null,
      "outputs": [
        {
          "output_type": "execute_result",
          "data": {
            "text/plain": [
              "4"
            ]
          },
          "metadata": {},
          "execution_count": 5
        }
      ]
    },
    {
      "cell_type": "code",
      "execution_count": null,
      "metadata": {
        "colab": {
          "base_uri": "https://localhost:8080/"
        },
        "id": "HVJ4O1fMbpil",
        "outputId": "7b978858-f4fe-48b6-e605-7f3b89d7410c"
      },
      "outputs": [
        {
          "output_type": "stream",
          "name": "stdout",
          "text": [
            "Hello\n"
          ]
        }
      ],
      "source": [
        "# OOPS:\n",
        "\n",
        "class Student:\n",
        "  a = 10\n",
        "                    # Constructor\n",
        "  def __init__(self, name, age):\n",
        "    print(\"Hello\")\n",
        "                            # Method\n",
        "  def func1(self):\n",
        "    print(\"Hello Workld\")\n",
        "    print(self.a)\n",
        "\n",
        "# # Object\n",
        "# obj = Student()\n",
        "# # obj.a\n",
        "# obj.func1()\n",
        "\n",
        "# obj1 = Student()\n",
        "# obj1.func1()\n",
        "\n",
        "\n",
        "Umaima = Student()\n",
        "\n"
      ]
    },
    {
      "cell_type": "code",
      "source": [
        "class Patient:\n",
        "\n",
        "  def __init__(self, name, age):\n",
        "    self.name = name\n",
        "    self.age = age\n",
        "\n",
        "  def info(self):\n",
        "    print(\"Hello Mr/Mrs: \", self.name)\n",
        "    print(\"Age: \", self.age)\n",
        "\n",
        "\n",
        "\n",
        "pat1 = Patient(\"Faraz\", 10)\n",
        "pat1.info()\n"
      ],
      "metadata": {
        "colab": {
          "base_uri": "https://localhost:8080/"
        },
        "id": "XwkaLCh4jdJs",
        "outputId": "551c0648-1248-46ed-ed33-81fff5b819ef"
      },
      "execution_count": null,
      "outputs": [
        {
          "output_type": "stream",
          "name": "stdout",
          "text": [
            "Hello Mr/Mrs:  Faraz\n",
            "Age:  10\n"
          ]
        }
      ]
    },
    {
      "cell_type": "code",
      "source": [
        "class Student:\n",
        "\n",
        "  def __init__(self, name, age, grade):\n",
        "    self.name = name\n",
        "    self.age = age\n",
        "    self.grade = grade\n",
        "\n",
        "  def info(self):\n",
        "    print(\"Your name: \", self.name)\n",
        "    print(\"Your age: \", self.age)\n",
        "    print(\"Your grade: \", self.grade)\n",
        "\n",
        "  def percentage(self, maths, phy, comp):\n",
        "    print(\"Your percentage becomes: \", (maths+phy+comp)/3)\n",
        "\n",
        "stu_1 = Student(\"Ahmed\", 12, 8)\n",
        "stu_2 = Student(\"FARAZ\", 15, 10)\n",
        "stu_3 = Student(\"Nasir\", 14, 11)\n",
        "\n",
        "stu_1.info()\n",
        "stu_1.percentage(75, 85, 70)\n",
        "\n",
        "stu_2.info()\n",
        "stu_2.percentage(70, 80, 60)\n",
        "\n",
        "\n",
        "\n",
        "\n"
      ],
      "metadata": {
        "colab": {
          "base_uri": "https://localhost:8080/"
        },
        "id": "fkgQV2bSlb_Z",
        "outputId": "ef525f28-2532-464e-b9dd-832415dc05c3"
      },
      "execution_count": null,
      "outputs": [
        {
          "output_type": "stream",
          "name": "stdout",
          "text": [
            "Your name:  Ahmed\n",
            "Your age:  12\n",
            "Your grade:  8\n",
            "Your percentage becomes:  76.66666666666667\n",
            "Your name:  FARAZ\n",
            "Your age:  15\n",
            "Your grade:  10\n",
            "Your percentage becomes:  70.0\n"
          ]
        }
      ]
    },
    {
      "cell_type": "code",
      "source": [
        "class Patient:\n",
        "\n",
        "  def __init__(self, name, age):\n",
        "    self.name = name\n",
        "    self.age = age\n",
        "\n",
        "  def greeting(self):\n",
        "    print(\"Hello Mr/Mrs: \", self.name)\n",
        "\n",
        "  def Appointment(self, n):\n",
        "    print(\"Your appointment number is: \", n)\n",
        "\n",
        "pat1 = Patient(\"Muhammad\", 15)\n",
        "pat2 = Patient(\"Raza\", 20)\n",
        "\n",
        "pat1.greeting()\n",
        "pat1.Appointment(1)\n",
        "\n",
        "pat2.greeting()\n",
        "pat2.Appointment(2)"
      ],
      "metadata": {
        "colab": {
          "base_uri": "https://localhost:8080/"
        },
        "id": "b7n7_UOvqs7x",
        "outputId": "2c2a4c1b-e800-41dd-9f8a-f6c1a46e8976"
      },
      "execution_count": null,
      "outputs": [
        {
          "output_type": "stream",
          "name": "stdout",
          "text": [
            "Hello Mr/Mrs:  Muhammad\n",
            "Your appointment number is:  1\n",
            "Hello Mr/Mrs:  Raza\n",
            "Your appointment number is:  2\n"
          ]
        }
      ]
    },
    {
      "cell_type": "code",
      "source": [
        "# Inheritance:\n",
        "\n",
        "# SINGLE LINE INHERITANCE\n",
        "\n",
        "class A:\n",
        "  def displayA(self):\n",
        "      print(\"Hello A\")\n",
        "\n",
        "class B(A):\n",
        "  def displayB(self):\n",
        "      print(\"Hello B\")\n",
        "\n",
        "# obj1 = A()\n",
        "# obj1.displayB()\n",
        "\n",
        "obj2 = B()\n",
        "obj2.displayA()"
      ],
      "metadata": {
        "colab": {
          "base_uri": "https://localhost:8080/"
        },
        "id": "yT9XI0tSs7ea",
        "outputId": "9ae55ffb-7c9a-4b54-8913-3d0c7e021a8f"
      },
      "execution_count": null,
      "outputs": [
        {
          "output_type": "stream",
          "name": "stdout",
          "text": [
            "Hello A\n"
          ]
        }
      ]
    },
    {
      "cell_type": "code",
      "source": [
        "# Multi-line Inheritance\n",
        "\n",
        "\n",
        "class A:\n",
        "  def displayA(self):\n",
        "      print(\"Hello A\")\n",
        "\n",
        "class B(A):\n",
        "  def displayB(self):\n",
        "      print(\"Hello B\")\n",
        "\n",
        "class C(B):\n",
        "  def displayC(self):\n",
        "      print(\"Hello C\")\n",
        "\n",
        "obj = C()\n",
        "obj.displayA()\n",
        "\n",
        "obj1 = B()\n",
        "obj1.displayA()"
      ],
      "metadata": {
        "colab": {
          "base_uri": "https://localhost:8080/"
        },
        "id": "iosfDdIXuhSt",
        "outputId": "0bc4ea1a-5155-42af-c343-fe096f4e0cf5"
      },
      "execution_count": null,
      "outputs": [
        {
          "output_type": "stream",
          "name": "stdout",
          "text": [
            "Hello A\n",
            "Hello A\n"
          ]
        }
      ]
    },
    {
      "cell_type": "code",
      "source": [
        "# B = A\n",
        "# C = B\n",
        "\n",
        "# C = A\n"
      ],
      "metadata": {
        "id": "mVgLEOL0vjDm"
      },
      "execution_count": null,
      "outputs": []
    },
    {
      "cell_type": "code",
      "source": [
        "# Multiple Inheritance\n",
        "\n",
        "class A:\n",
        "  def displayA(self):\n",
        "      print(\"Hello A\")\n",
        "\n",
        "class B:\n",
        "  def displayB(self):\n",
        "      print(\"Hello B\")\n",
        "\n",
        "class C(A, B):\n",
        "  def displayC(self):\n",
        "      print(\"Hello C\")\n",
        "\n",
        "obj = C()\n",
        "obj.displayC()\n",
        "\n"
      ],
      "metadata": {
        "colab": {
          "base_uri": "https://localhost:8080/"
        },
        "id": "EmKnwqbpv8e2",
        "outputId": "8ea8d99d-b501-47a6-f627-e7b57bbc0597"
      },
      "execution_count": null,
      "outputs": [
        {
          "output_type": "stream",
          "name": "stdout",
          "text": [
            "Hello C\n"
          ]
        }
      ]
    },
    {
      "cell_type": "code",
      "source": [
        "# Encapsulation:\n",
        "\n",
        "class ABC:\n",
        "\n",
        "  __name = \"john\"\n",
        "\n",
        "  def __init__(self):\n",
        "    print(self.__name)\n",
        "\n",
        "  def __Hello(self):\n",
        "    print(\"Hello\")\n",
        "\n",
        "obj = ABC()\n"
      ],
      "metadata": {
        "colab": {
          "base_uri": "https://localhost:8080/"
        },
        "id": "24F8_gRzwVlO",
        "outputId": "7e1008b7-3e72-4d69-f207-257834f0f7e4"
      },
      "execution_count": null,
      "outputs": [
        {
          "output_type": "stream",
          "name": "stdout",
          "text": [
            "john\n"
          ]
        }
      ]
    },
    {
      "cell_type": "code",
      "source": [
        "# Getter and setter\n",
        "\n",
        "class stu:\n",
        "  def __init__(self):\n",
        "    self.__name = \"\"\n",
        "\n",
        "  def setname(self, name):\n",
        "    self.__name = name\n",
        "\n",
        "  def getname(self):\n",
        "    print(self.__name)\n",
        "\n",
        "\n",
        "obj = stu()\n",
        "obj.setname(\"Raza\")\n",
        "obj.getname()"
      ],
      "metadata": {
        "colab": {
          "base_uri": "https://localhost:8080/"
        },
        "id": "ANE91iOx0eIb",
        "outputId": "f44dd735-ec01-4ff5-cd53-71f69ad98a92"
      },
      "execution_count": null,
      "outputs": [
        {
          "output_type": "stream",
          "name": "stdout",
          "text": [
            "Raza\n"
          ]
        }
      ]
    }
  ]
}